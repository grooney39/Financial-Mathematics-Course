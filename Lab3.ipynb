{
 "cells": [
  {
   "cell_type": "markdown",
   "id": "1b6623c4",
   "metadata": {},
   "source": [
    "# Lab3 - Financial Mathematics\n",
    "Jakub Grunas"
   ]
  },
  {
   "cell_type": "code",
   "execution_count": 1,
   "id": "4ebcb3e4",
   "metadata": {},
   "outputs": [],
   "source": [
    "import numpy as np, math"
   ]
  },
  {
   "cell_type": "markdown",
   "id": "312aca77",
   "metadata": {},
   "source": [
    "### Cox-Ross-Rubinstein Model"
   ]
  },
  {
   "cell_type": "code",
   "execution_count": 2,
   "id": "bd8974a2",
   "metadata": {},
   "outputs": [],
   "source": [
    "def CRR(S0,d,u,r,T,K,option):\n",
    "    \n",
    "    N = T+1\n",
    "    p = (1+r-d) / (u-d)\n",
    "    \n",
    "    leaves = np.array([])\n",
    "    for i in range(T+1):\n",
    "        leaves = np.append(leaves, S0 * u**(T-i) * d**i)\n",
    "    \n",
    "    tree = [[0]*(N-i) for i in range(N-1, 0, -1)]\n",
    "    leaves_val = np.maximum(leaves-K if option==\"put\" else K-leaves, 0)\n",
    "    tree.append(leaves_val.tolist())\n",
    "\n",
    "    for t in range(N-2,-1,-1):\n",
    "        for node in range(len(tree[t])):\n",
    "            tree[t][node] = ((1+r)**(t) / (1+r)**(t+1)) * ((p*tree[t+1][node] + (1-p)*tree[t+1][node+1]))\n",
    "    \n",
    "    root = tree[0][0]\n",
    "    return root, leaves_val, tree"
   ]
  },
  {
   "cell_type": "markdown",
   "id": "ee4f1e5d",
   "metadata": {},
   "source": [
    "### Option pricing"
   ]
  },
  {
   "cell_type": "code",
   "execution_count": 3,
   "id": "0aaef6a5",
   "metadata": {},
   "outputs": [
    {
     "data": {
      "text/plain": [
       "66.97006486520782"
      ]
     },
     "execution_count": 3,
     "metadata": {},
     "output_type": "execute_result"
    }
   ],
   "source": [
    "CRR(S0=100, d=0.8, u=1.3, r=0.1, T=10, K=90, option=\"put\")[0]"
   ]
  },
  {
   "cell_type": "code",
   "execution_count": 4,
   "id": "7713d56d",
   "metadata": {},
   "outputs": [
    {
     "data": {
      "text/plain": [
       "1.6689609138656192"
      ]
     },
     "execution_count": 4,
     "metadata": {},
     "output_type": "execute_result"
    }
   ],
   "source": [
    "CRR(S0=100, d=0.8, u=1.3, r=0.1, T=10, K=90, option=\"call\")[0]"
   ]
  },
  {
   "cell_type": "markdown",
   "id": "9997c64d",
   "metadata": {},
   "source": [
    "#### Theoretical values:"
   ]
  },
  {
   "cell_type": "code",
   "execution_count": 6,
   "id": "0a98e4da",
   "metadata": {},
   "outputs": [],
   "source": [
    "def theoretical_price(S0,d,u,r,T,K,option):\n",
    "    p = (1+r-d) / (u-d)\n",
    "    val = 0\n",
    "    leaves = CRR(S0, d, u, r, T, K, option)[1]\n",
    "\n",
    "    for j in range(len(leaves)):\n",
    "        val += (math.factorial(T) * p**j * (1-p)**(T-j) * leaves[len(leaves)-j-1]) / (math.factorial(j) * math.factorial(T-j))\n",
    "    val /= (1+r)**T\n",
    "    \n",
    "    return val"
   ]
  },
  {
   "cell_type": "code",
   "execution_count": 7,
   "id": "4f2a6d25",
   "metadata": {},
   "outputs": [
    {
     "data": {
      "text/plain": [
       "66.97006486520779"
      ]
     },
     "execution_count": 7,
     "metadata": {},
     "output_type": "execute_result"
    }
   ],
   "source": [
    "theoretical_price(S0=100, d=0.8, u=1.3, r=0.1, T=10, K=90, option=\"put\")"
   ]
  },
  {
   "cell_type": "code",
   "execution_count": 8,
   "id": "623ad5dc",
   "metadata": {},
   "outputs": [
    {
     "data": {
      "text/plain": [
       "1.668960913865619"
      ]
     },
     "execution_count": 8,
     "metadata": {},
     "output_type": "execute_result"
    }
   ],
   "source": [
    "theoretical_price(S0=100, d=0.8, u=1.3, r=0.1, T=10, K=90, option=\"call\")"
   ]
  }
 ],
 "metadata": {
  "kernelspec": {
   "display_name": "Python 3 (ipykernel)",
   "language": "python",
   "name": "python3"
  },
  "language_info": {
   "codemirror_mode": {
    "name": "ipython",
    "version": 3
   },
   "file_extension": ".py",
   "mimetype": "text/x-python",
   "name": "python",
   "nbconvert_exporter": "python",
   "pygments_lexer": "ipython3",
   "version": "3.9.12"
  }
 },
 "nbformat": 4,
 "nbformat_minor": 5
}
